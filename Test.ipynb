{
 "cells": [
  {
   "cell_type": "code",
   "execution_count": 5,
   "metadata": {},
   "outputs": [
    {
     "name": "stdout",
     "output_type": "stream",
     "text": [
      "Rows Read: 30448, Total Rows Processed: 30448, Total Chunk Time: 0.134 seconds \n",
      "Rows Read: 36716, Total Rows Processed: 36716, Total Chunk Time: 0.127 seconds \n",
      "[ 104311.82486883  104241.19944563  105608.37624261 ...,  104241.19944563\n",
      "  104350.25823867  104549.98036566]\n"
     ]
    }
   ],
   "source": [
    "import pandas as pd\n",
    "from sklearn.linear_model import LinearRegression\n",
    "from revoscalepy import RxComputeContext, RxInSqlServer, RxSqlServerData\n",
    "from revoscalepy import rx_import\n",
    "\n",
    "\n",
    "# Connection string to your SQL Server instance\n",
    "conn_str = 'Driver=SQL Server;Server=DEVNOTEBOOK\\MSSQLSERVER01;Database=Parcel56;Trusted_Connection=True;'\n",
    "\n",
    "# Define the columns you will import\n",
    "column_info = {\n",
    "         \"ParcelId\" : { \"type\" : \"integer\" },\n",
    "         \"Swis\" : { \"type\" : \"integer\" },\n",
    "         \"TotalAV\" : { \"type\" : \"integer\" },                  \n",
    "         \"Acres\" : { \"type\" : \"integer\" },         \n",
    "         \"Zip\" : { \"type\" : \"integer\" }\n",
    "     }\n",
    "\n",
    "# Get the data from the SQL Server table\n",
    "data_source_train = RxSqlServerData(table=\"dbo.CleanedAssessmentDataForTraining\", connection_string=conn_str, column_info=column_info)\n",
    "data_source = RxSqlServerData(table=\"dbo.CleanedAssessmentData\", connection_string=conn_str, column_info=column_info)\n",
    "\n",
    "computeContext = RxInSqlServer(\n",
    "     connection_string = conn_str,\n",
    "     num_tasks = 1,\n",
    "     auto_cleanup = False\n",
    ")\n",
    "\n",
    "RxInSqlServer(connection_string=conn_str, num_tasks=1, auto_cleanup=False)\n",
    "\n",
    "df_train = pd.DataFrame(rx_import(input_data = data_source_train))\n",
    "# import data source and convert to pandas dataframe\n",
    "df = pd.DataFrame(rx_import(input_data = data_source))\n",
    "\n",
    "lin_model = LinearRegression()\n",
    "\n",
    "\n",
    "# Split the data into training/testing sets\n",
    "x_train = df_train[\"Acres\"].values.reshape(-1,1)\n",
    "y_train = df_train[\"TotalAV\"]\n",
    "\n",
    "x_test = df[\"Acres\"].values.reshape(-1,1)\n",
    "y_test = df[\"TotalAV\"]\n",
    "\n",
    "# Train the model using the training sets\n",
    "# lin_model.fit(x_train, y_train)\n",
    "model = lin_model.fit(x_train, y_train)\n",
    "\n",
    "print(model.predict(x_test))\n",
    "\n"
   ]
  }
 ],
 "metadata": {
  "kernelspec": {
   "display_name": "Python [default]",
   "language": "python",
   "name": "python3"
  },
  "language_info": {
   "codemirror_mode": {
    "name": "ipython",
    "version": 3
   },
   "file_extension": ".py",
   "mimetype": "text/x-python",
   "name": "python",
   "nbconvert_exporter": "python",
   "pygments_lexer": "ipython3",
   "version": "3.5.2"
  }
 },
 "nbformat": 4,
 "nbformat_minor": 1
}
