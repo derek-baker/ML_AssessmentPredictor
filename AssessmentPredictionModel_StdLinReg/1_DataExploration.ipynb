{
 "cells": [
  {
   "cell_type": "code",
   "execution_count": 5,
   "metadata": {},
   "outputs": [
    {
     "name": "stdout",
     "output_type": "stream",
     "text": [
      "Rows Read: 11008, Total Rows Processed: 11008, Total Chunk Time: 0.027 seconds \n",
      "Training data shape: (8806, 6)\n",
      "Testing data shape: (2202, 6)\n",
      "Error: 3.46764199478e-13\n"
     ]
    }
   ],
   "source": [
    "# INSPIRED BY: https://docs.microsoft.com/en-us/sql/advanced-analytics/tutorials/python-ski-rental-linear-regression?view=sql-server-ver15\n",
    "\n",
    "import pandas as pd\n",
    "from sklearn.linear_model import LinearRegression\n",
    "from sklearn.metrics import mean_squared_error\n",
    "from revoscalepy import RxComputeContext, RxInSqlServer, RxSqlServerData\n",
    "from revoscalepy import rx_import\n",
    "\n",
    "conn_str = 'Driver=SQL Server;Server=DEVNOTEBOOK\\MSSQLSERVER01;Database=ML;Trusted_Connection=True;'\n",
    "\n",
    "column_info = {\n",
    "    \"ConditionCode\": { \"type\": \"integer\" },\n",
    "    \"Sqft\" : { \"type\" : \"integer\" },         \n",
    "    \"NumBaths\" : { \"type\" : \"integer\" },\n",
    "    \"NumBedrooms\" : { \"type\" : \"integer\" },\n",
    "    \"Age\" : { \"type\" : \"integer\" },\n",
    "    \"TotalAV\" : { \"type\" : \"integer\" },                  \n",
    "}\n",
    "\n",
    "# Get data in intermediate format (I think)\n",
    "data_source = RxSqlServerData(\n",
    "    table=\"dbo.AssessmentTrainingDataLinReg\", \n",
    "    connection_string=conn_str, \n",
    "    column_info=column_info\n",
    ")\n",
    "# Set up compute context\n",
    "RxInSqlServer(\n",
    "    connection_string=conn_str, \n",
    "    num_tasks=1, \n",
    "    auto_cleanup=False\n",
    ")\n",
    "# convert data to pandas dataframe\n",
    "df = pd.DataFrame(rx_import(input_data = data_source))\n",
    "\n",
    "# Create list of all column names from the table\n",
    "columns = df.columns.tolist()\n",
    "\n",
    "# Name of the column containing data we want to predict\n",
    "predictionTarget = \"TotalAV\"\n",
    "\n",
    "training_set = df.sample(\n",
    "    frac=0.8, \n",
    "    random_state=1\n",
    ")\n",
    "\n",
    "# \"Use anything not present in the training set for the testing set.\"\n",
    "testing_set = df.loc[~df.index.isin(training_set.index)]\n",
    "\n",
    "print(\n",
    "    \"Training data shape:\", \n",
    "    training_set.shape\n",
    ")\n",
    "print(\n",
    "    \"Testing data shape:\", \n",
    "    testing_set.shape\n",
    ")\n",
    "\n",
    "linearReg_model = LinearRegression()\n",
    "\n",
    "# Fit the model to the training data.\n",
    "linearReg_model.fit(training_set[columns], training_set[predictionTarget])\n",
    "\n",
    "# Generate our predictions for the test set.\n",
    "linearReg_predictions = linearReg_model.predict(testing_set[columns])\n",
    "\n",
    "error = mean_squared_error(\n",
    "    linearReg_predictions, \n",
    "    testing_set[predictionTarget]\n",
    ")\n",
    "print(\n",
    "    \"Error:\", \n",
    "    error\n",
    ")\n"
   ]
  },
  {
   "cell_type": "code",
   "execution_count": null,
   "metadata": {
    "collapsed": true
   },
   "outputs": [],
   "source": []
  }
 ],
 "metadata": {
  "kernelspec": {
   "display_name": "Python [default]",
   "language": "python",
   "name": "python3"
  },
  "language_info": {
   "codemirror_mode": {
    "name": "ipython",
    "version": 3
   },
   "file_extension": ".py",
   "mimetype": "text/x-python",
   "name": "python",
   "nbconvert_exporter": "python",
   "pygments_lexer": "ipython3",
   "version": "3.5.2"
  }
 },
 "nbformat": 4,
 "nbformat_minor": 1
}
